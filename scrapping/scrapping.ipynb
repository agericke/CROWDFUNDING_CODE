{
 "cells": [
  {
   "cell_type": "markdown",
   "metadata": {},
   "source": [
    "# SCRAPPING NOTEBOOK\n",
    "\n",
    "We create this notebook in order to be able to understand the scrapping process and the differet steps we need to go through for enabling this functionality in our project.\n",
    "\n",
    "The idea is to create a python script that accepts several parameters and downloads the data in a proper format.\n",
    "\n",
    "This notebook is intended for learning and testing purposes, but we will have a proper python script that will implement this solution.\n",
    "\n",
    "<br><br><br>"
   ]
  },
  {
   "cell_type": "markdown",
   "metadata": {},
   "source": [
    "## LIBRARIES AND SOURCES\n",
    "\n",
    "We will use the following python libraries:\n",
    "- **Python's Beautiful Soup module**: For the purpose of data extraction.\n",
    "- **Python's Panda Library**. For the purpose of Data Manipulation.\n",
    "\n",
    "You find a useful link regarding this aspects in:\n",
    "\n",
    "https://www.datacamp.com/community/tutorials/web-scraping-using-python"
   ]
  },
  {
   "cell_type": "code",
   "execution_count": 4,
   "metadata": {},
   "outputs": [],
   "source": [
    "# First import the necessary modules\n",
    "import pandas as pd\n",
    "import numpy as np\n",
    "import matplotlib.pyplot as plt\n",
    "import seaborn as sns\n",
    "%matplotlib inline"
   ]
  },
  {
   "cell_type": "code",
   "execution_count": null,
   "metadata": {},
   "outputs": [],
   "source": [
    "from urlib.request import urlopen\n",
    "from bs4 import BeatifulSoup"
   ]
  }
 ],
 "metadata": {
  "kernelspec": {
   "display_name": "Python 3",
   "language": "python",
   "name": "python3"
  },
  "language_info": {
   "codemirror_mode": {
    "name": "ipython",
    "version": 3
   },
   "file_extension": ".py",
   "mimetype": "text/x-python",
   "name": "python",
   "nbconvert_exporter": "python",
   "pygments_lexer": "ipython3",
   "version": "3.7.1"
  }
 },
 "nbformat": 4,
 "nbformat_minor": 2
}
